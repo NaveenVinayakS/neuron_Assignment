{
 "cells": [
  {
   "cell_type": "code",
   "execution_count": null,
   "id": "9095cef3",
   "metadata": {},
   "outputs": [],
   "source": [
    "#Q1. What is the difference between __getattr__ and __getattribute__?\n",
    "\n",
    "__getattr__: This method is called when an attribute that doesnt exist is accessed on an object.\n",
    "    It takes two arguments: the instance and the name of the attribute being accessed. You can define this method to \n",
    "        dynamically generate or fetch attribute values when they are not present.\n",
    "__getattribute__: This method is called for every attribute access on an object, whether the attribute exists or not.\n",
    "    It is a more general-purpose method that allows you to customize attribute access for all attributes. However, you should be cautious when using __getattribute__ because it can interfere with normal attribute access and might lead to infinite recursion if not used carefully.\n",
    "\n",
    "#Q2. What is the difference between properties and descriptors?\n",
    "\n",
    "Properties: Properties are a way to define getter, setter, and deleter methods for attributes of a class. They allow you to\n",
    "    customize the behavior of attribute access while keeping the same syntax as regular attribute access. Properties are \n",
    "    defined using the @property, @<attribute>.setter, and @<attribute>.deleter decorators.\n",
    "Descriptors: Descriptors are a more advanced and lower-level mechanism for customizing attribute access. They are \n",
    "    implemented as classes with special methods, including __get__, __set__, and __delete__. Descriptors can be shared\n",
    "    among multiple attributes, whereas properties are specific to a single attribute.\n",
    "\n",
    "#Q3. What are the key differences in functionality between __getattr__ and __getattribute__, as well as properties and descriptors?\n",
    "__getattr__ and __getattribute__:\n",
    "__getattr__ is called only when an attribute is not found, allowing you to provide a default value or calculate the attribute dynamically.\n",
    "__getattribute__ is called for all attribute access, including existing attributes, making it more general but potentially risky due to the risk of infinite recursion.\n",
    "Properties and Descriptors:\n",
    "Properties are a higher-level and simpler way to customize attribute access for a specific attribute using decorators like @property.\n",
    "Descriptors are a lower-level and more flexible mechanism for customizing attribute access and can be shared among multiple attributes.\n",
    "Properties are generally easier to use and understand, while descriptors provide more control but can be complex to implement."
   ]
  }
 ],
 "metadata": {
  "kernelspec": {
   "display_name": "Python 3 (ipykernel)",
   "language": "python",
   "name": "python3"
  },
  "language_info": {
   "codemirror_mode": {
    "name": "ipython",
    "version": 3
   },
   "file_extension": ".py",
   "mimetype": "text/x-python",
   "name": "python",
   "nbconvert_exporter": "python",
   "pygments_lexer": "ipython3",
   "version": "3.10.9"
  }
 },
 "nbformat": 4,
 "nbformat_minor": 5
}
