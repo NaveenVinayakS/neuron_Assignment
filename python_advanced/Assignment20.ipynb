{
 "cells": [
  {
   "cell_type": "code",
   "execution_count": null,
   "id": "4cafc025",
   "metadata": {},
   "outputs": [],
   "source": [
    "# 1 Compare and contrast the float and Decimal classes' benefits and drawbacks.\n",
    "\n",
    "Floats are implemented as binary fractions, which can lead to rounding errors and limited precision, especially for \n",
    "operations like division.\n",
    "Decimals are implemented as base-10 fractions, allowing for precise decimal arithmetic with fixed precision.\n",
    "Floats are faster and use less memory than Decimals.\n",
    "Decimals are suitable for financial and decimal-based calculations where precision is critical.\n",
    "\n",
    "# 2 Decimal('1.200') and Decimal('1.2') are two objects to consider. In what sense are these the same object? Are these just two ways of representing the exact same value, or do they correspond to different internal states?\n",
    "\n",
    "These are two different Decimal objects that represent the exact same value.\n",
    "They correspond to different internal states in memory, but their mathematical values are equivalent.\n",
    "\n",
    "# 3 What happens if the equality of Decimal('1.200') and Decimal('1.2') is checked?\n",
    "\n",
    "When you check for equality (==), it returns True because both Decimal objects represent the same mathematical value.\n",
    "\n",
    "# 4 Why is it preferable to start a Decimal object with a string rather than a floating-point value?\n",
    "\n",
    "Starting a Decimal object with a string ensures that you define the exact value you want without any binary representation\n",
    "errors associated with floating-point values.\n",
    "\n",
    "# 5 In an arithmetic phrase, how simple is it to combine Decimal objects with integers?\n",
    "Combining Decimal objects with integers is straightforward. You can perform arithmetic operations between Decimal objects\n",
    "and integers without issues.\n",
    "\n",
    "# 6 Can Decimal objects and floating-point values be combined easily?\n",
    "Decimal objects and floating-point values can be combined, but you should be cautious. Combining them may introduce floating\n",
    "-point approximation errors, so its best to convert floats to Decimals for precise results.\n",
    "\n",
    "# 7 Using the Fraction class but not the Decimal class, give an example of a quantity that can be expressed with absolute precision.\n",
    "An example of a quantity that can be expressed with absolute precision using the Fraction class is Fraction(1, 3). This \n",
    "represents the fraction 1/3 exactly.\n",
    "\n",
    "# 8 Describe a quantity that can be accurately expressed by the Decimal or Fraction classes but not by a floating-point value.\n",
    "A quantity like 0.1 (one-tenth) can be accurately expressed by the Decimal or Fraction classes, but not by a floating-point\n",
    "value, as it has a non-terminating binary representation in floating-point, leading to rounding errors.\n",
    "\n",
    "# 9 Consider the following two fraction objects: Fraction(1, 2) and Fraction(1, 2). Fraction(5, 10). Is the internal state of these two objects the same? Why do you think that is?\n",
    "The internal state of Fraction(1, 2) and Fraction(5, 10) is the same. The Fraction class simplifies fractions by dividing \n",
    "both the numerator and denominator by their greatest common divisor, ensuring that they represent the same mathematical \n",
    "value.\n",
    "\n",
    "# 10 How do the Fraction class and the integer type (int) relate to each other? Containment or inheritance?\n",
    "The Fraction class and the integer type (int) are related through containment, not inheritance. You can create Fraction \n",
    "objects from integers, and integers can be represented as fractions with a denominator of 1. However, Fraction is not a\n",
    "subclass of int, nor does it inherit from it."
   ]
  }
 ],
 "metadata": {
  "kernelspec": {
   "display_name": "Python 3 (ipykernel)",
   "language": "python",
   "name": "python3"
  },
  "language_info": {
   "codemirror_mode": {
    "name": "ipython",
    "version": 3
   },
   "file_extension": ".py",
   "mimetype": "text/x-python",
   "name": "python",
   "nbconvert_exporter": "python",
   "pygments_lexer": "ipython3",
   "version": "3.10.9"
  }
 },
 "nbformat": 4,
 "nbformat_minor": 5
}
