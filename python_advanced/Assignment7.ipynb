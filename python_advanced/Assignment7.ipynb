{
 "cells": [
  {
   "cell_type": "code",
   "execution_count": null,
   "id": "00cf9115",
   "metadata": {},
   "outputs": [],
   "source": [
    "# Q1. What is the purpose of the try statement?\n",
    "\n",
    "A1. The try statement in Python is used to enclose a block of code that might raise an exception, allowing you to handle and gracefully recover from exceptions that occur during program execution. It's a way to implement error handling and exception management in your code.\n",
    "\n",
    "# Q2. What are the two most popular try statement variations?\n",
    "\n",
    "A2. The two most popular try statement variations are:\n",
    "\n",
    "a) try...except: This variation is used to catch and handle specific exceptions that might occur within the try block. You specify the type of exception you want to catch and provide code to handle it.\n",
    "\n",
    "b) try...finally: This variation is used to ensure that a particular block of code (inside the finally block) is executed regardless of whether an exception is raised or not. It's often used for cleanup tasks like closing files or network connections.\n",
    "\n",
    "# Q3. What is the purpose of the raise statement?\n",
    "\n",
    "A3. The raise statement in Python is used to explicitly raise an exception in your code. It allows you to create and raise your own custom exceptions or to re-raise exceptions that you catch and want to propagate up the call stack. This statement is commonly used in combination with the try...except block for controlled error handling.\n",
    "\n",
    "# Q4. What does the assert statement do, and what other statement is it like?\n",
    "\n",
    "A4. The assert statement is used for debugging and sanity checking in your code. It tests a given condition, and if the condition is False, it raises an AssertionError exception. It is similar to the if statement, but it is typically used in situations where you want to catch programming errors and ensure certain conditions are met during development. It's not meant for handling expected runtime errors.\n",
    "\n",
    "# Q5. What is the purpose of the with/as argument, and what other statement is it like?\n",
    "\n",
    "A5. The with statement, along with the as keyword, is used to simplify resource management and context management in Python. It is often used to work with resources like files, sockets, or database connections. The with statement ensures that the specified setup and teardown actions are performed, even if an exception occurs. It is similar to the try...finally statement but provides a more convenient and readable way to manage resources."
   ]
  }
 ],
 "metadata": {
  "kernelspec": {
   "display_name": "Python 3 (ipykernel)",
   "language": "python",
   "name": "python3"
  },
  "language_info": {
   "codemirror_mode": {
    "name": "ipython",
    "version": 3
   },
   "file_extension": ".py",
   "mimetype": "text/x-python",
   "name": "python",
   "nbconvert_exporter": "python",
   "pygments_lexer": "ipython3",
   "version": "3.10.9"
  }
 },
 "nbformat": 4,
 "nbformat_minor": 5
}
