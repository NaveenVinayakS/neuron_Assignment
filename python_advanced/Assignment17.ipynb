{
 "cells": [
  {
   "cell_type": "code",
   "execution_count": null,
   "id": "9f925409",
   "metadata": {},
   "outputs": [],
   "source": [
    "Q1. Difference between greedy and non-greedy syntax:\n",
    "    Greedy syntax matches as much as possible, while non-greedy matches as little as possible. Transforming greedy to non-greedy: Add \"?\" after a quantifier, e.g., change \".\" to \".?\".\n",
    "\n",
    "Q2. When it makes a difference: \n",
    "    Greedy vs. non-greedy matters when matching patterns containing repetitions. If only a greedy match is available, you may need to restructure the pattern or use negations to achieve non-greedy behavior.\n",
    "\n",
    "Q3. Non-tagged group in simple match:\n",
    "    In a simple match without replacement, a non-tagged group doesn't make a practical difference. It's useful for capturing subpatterns when replacements or references are needed.\n",
    "\n",
    "Q4. Scenario for non-tagged category:\n",
    "    When you need to extract specific subpatterns from a text using regex, non-tagged categories can significantly impact the program's outcomes by simplifying data extraction.\n",
    "\n",
    "Q5. Look-ahead conditions:\n",
    "    Look-ahead conditions preserve the characters they examine. This can make a difference when you want to match a pattern that's followed or not followed by specific content without consuming it.\n",
    "\n",
    "Q6. Positive vs. Negative look-ahead:\n",
    "    Positive look-ahead asserts that a pattern must follow, while negative look-ahead asserts that a pattern must not follow at a specific position in the text.\n",
    "\n",
    "Q7. Referring to groups by name: \n",
    "    Referring to groups by name enhances code readability and maintainability in regular expressions, making it easier to understand the purpose of captured groups.\n",
    "\n",
    "Q8. Identifying repeated items with named groups:\n",
    "    Yes, you can use named groups to identify repeated items in a target string, like matching and capturing repeated words or phrases.\n",
    "\n",
    "Q9. Scanner interface vs. re.findall:\n",
    "    Scanner interface provides a way to tokenize a string into smaller parts (e.g., words) and iterate through them, which re.findall does not do. It's helpful for more complex parsing tasks.\n",
    "\n",
    "Q10. Naming a scanner object:\n",
    "    No, a scanner object doesn't have to be named \"scanner.\" You can name it as per your coding conventions, but a meaningful name is recommended for clarity."
   ]
  }
 ],
 "metadata": {
  "kernelspec": {
   "display_name": "Python 3 (ipykernel)",
   "language": "python",
   "name": "python3"
  },
  "language_info": {
   "codemirror_mode": {
    "name": "ipython",
    "version": 3
   },
   "file_extension": ".py",
   "mimetype": "text/x-python",
   "name": "python",
   "nbconvert_exporter": "python",
   "pygments_lexer": "ipython3",
   "version": "3.10.9"
  }
 },
 "nbformat": 4,
 "nbformat_minor": 5
}
