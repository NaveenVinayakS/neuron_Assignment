{
 "cells": [
  {
   "cell_type": "code",
   "execution_count": null,
   "id": "b1944151",
   "metadata": {},
   "outputs": [],
   "source": [
    "# 1. What are the new features added in Python 3.8 version?\n",
    "\n",
    "Python 3.8 introduced several new features and improvements, including:\n",
    "\n",
    "The \"walrus operator\" (:=), allowing assignment within expressions.\n",
    "Positional-only parameters, making it possible to specify which function parameters can be called positionally.\n",
    "Syntax warnings for suspicious code that was previously silent.\n",
    "f-strings support the = specifier for debugging expressions.\n",
    "The math.prod() function for calculating the product of iterable elements.\n",
    "New syntax features and optimized runtime performance.\n",
    "\n",
    "# 2What is monkey patching in Python?\n",
    "\n",
    "Monkey patching in Python refers to the practice of dynamically modifying or extending the behavior of existing classes,\n",
    "functions, or modules at runtime. Its typically done by adding, modifying, or replacing methods or attributes of classes \n",
    "or objects to change their behavior. While it can be a powerful tool for making quick fixes or enhancements, \n",
    "it should be used with caution as it can lead to unexpected behavior and compatibility issues, especially in larger \n",
    "codebases.\n",
    "\n",
    "# 3 What is the difference between a shallow copy and deep copy?\n",
    "\n",
    "Shallow Copy: A shallow copy of an object creates a new object, but it doesnt create copies of the objects contained within\n",
    "    the original object. Instead, it copies references to these objects. Modifying objects inside a shallow copy may affect the original object.\n",
    "\n",
    "Deep Copy: A deep copy, on the other hand, creates a new object and recursively creates copies of all objects contained \n",
    "    within the original object, and all objects within them, and so on. It results in a completely independent copy of the\n",
    "    original object, and changes in the copy do not affect the original.\n",
    "\n",
    "# 4 What is the maximum possible length of an identifier?\n",
    "\n",
    "In Python, the maximum length of an identifier (variable name, function name, etc.) is not explicitly defined in terms of\n",
    "characters. However, its a good practice to keep identifiers reasonably short and meaningful for readability. There is no\n",
    "strict limit, but excessively long identifiers can make your code less readable.\n",
    "\n",
    "# 5 What is generator comprehension?\n",
    "\n",
    "A generator comprehension is a concise way to create a generator in Python. It has a similar syntax to list comprehensions,\n",
    "but instead of creating a list, it creates a generator object. Generator comprehensions are useful when you want to generate\n",
    "and yield values one at a time, which is memory-efficient for large datasets."
   ]
  }
 ],
 "metadata": {
  "kernelspec": {
   "display_name": "Python 3 (ipykernel)",
   "language": "python",
   "name": "python3"
  },
  "language_info": {
   "codemirror_mode": {
    "name": "ipython",
    "version": 3
   },
   "file_extension": ".py",
   "mimetype": "text/x-python",
   "name": "python",
   "nbconvert_exporter": "python",
   "pygments_lexer": "ipython3",
   "version": "3.10.9"
  }
 },
 "nbformat": 4,
 "nbformat_minor": 5
}
