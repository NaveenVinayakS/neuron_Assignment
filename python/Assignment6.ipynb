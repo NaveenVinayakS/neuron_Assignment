{
 "cells": [
  {
   "cell_type": "code",
   "execution_count": null,
   "id": "8ff639fc",
   "metadata": {},
   "outputs": [],
   "source": [
    "Q1. Describe three applications for exception processing.\n",
    "\n",
    "Exception processing is crucial in handling unexpected situations in your code. Three common applications include:\n",
    "\n",
    "Error Reporting: Exception handling allows you to gracefully handle errors by catching and reporting them to the user or a log file.\n",
    "\n",
    "Resource Cleanup: You can use exceptions to ensure that resources like files, network connections, or database connections are properly closed and released.\n",
    "\n",
    "Flow Control: Exceptions can be used to change the flow of your program under certain conditions, making it more flexible and robust.\n",
    "    \n",
    "Q2. What happens if you don't do something extra to treat an exception?\n",
    "\n",
    "If you don't handle an exception in your code, it will propagate up the call stack until it reaches the top-level of your program. This will typically result in the program terminating and displaying an error message, which can be undesirable for user-facing applications. Here's an example\n",
    "\n",
    "Q3. What are your options for recovering from an exception in your script?\n",
    "\n",
    "You have several options for recovering from exceptions:\n",
    "\n",
    "Try-Except Blocks: You can use try-except blocks to catch and handle exceptions gracefully.\n",
    "    \n",
    "Q4. Describe two methods for triggering exceptions in your script.\n",
    "\n",
    "You can trigger exceptions intentionally in your code using the following methods:\n",
    "\n",
    "Raise an Exception: You can raise an exception using the raise keyword.\n",
    "    \n",
    "Q5. Identify two methods for specifying actions to be executed at termination time, regardless of whether or not an exception exists.\n",
    "\n",
    "Two methods for specifying actions to be executed at termination time are:\n",
    "\n",
    "Using a Finally Block: You can use a finally block in a try-except-finally construct to ensure that certain code is executed regardless of whether an exception occurs or not\n",
    "    \n",
    "Using the atexit Module: You can register functions to be called at program termination using the atexit module."
   ]
  }
 ],
 "metadata": {
  "kernelspec": {
   "display_name": "Python 3 (ipykernel)",
   "language": "python",
   "name": "python3"
  },
  "language_info": {
   "codemirror_mode": {
    "name": "ipython",
    "version": 3
   },
   "file_extension": ".py",
   "mimetype": "text/x-python",
   "name": "python",
   "nbconvert_exporter": "python",
   "pygments_lexer": "ipython3",
   "version": "3.10.9"
  }
 },
 "nbformat": 4,
 "nbformat_minor": 5
}
