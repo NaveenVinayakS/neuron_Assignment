{
 "cells": [
  {
   "cell_type": "code",
   "execution_count": null,
   "id": "2ddb42d9",
   "metadata": {},
   "outputs": [],
   "source": [
    "# 1. How many seconds are in an hour?\n",
    "seconds_in_a_minute = 60\n",
    "seconds_in_an_hour = seconds_in_a_minute * 60\n",
    "print(seconds_in_an_hour)\n"
   ]
  },
  {
   "cell_type": "code",
   "execution_count": null,
   "id": "a7407d87",
   "metadata": {},
   "outputs": [],
   "source": [
    "# 2. Assign the result from the previous task (seconds in an hour) to a variable called seconds_per_hour.\n",
    "seconds_per_hour = 3600"
   ]
  },
  {
   "cell_type": "code",
   "execution_count": null,
   "id": "a188ebef",
   "metadata": {},
   "outputs": [],
   "source": [
    "# 3. How many seconds do you think there are in a day? Make use of the variables seconds_per_hour and minutes_per_hour.\n",
    "minutes_per_hour = 60\n",
    "seconds_per_day = seconds_per_hour * minutes_per_hour * 24\n"
   ]
  },
  {
   "cell_type": "code",
   "execution_count": null,
   "id": "1b07b2f2",
   "metadata": {},
   "outputs": [],
   "source": [
    "# 4. Calculate seconds_per_day again, but this time save the result in a variable called seconds_per_day.\n",
    "seconds_per_day = seconds_per_hour * minutes_per_hour * 24\n"
   ]
  },
  {
   "cell_type": "code",
   "execution_count": null,
   "id": "baa404ac",
   "metadata": {},
   "outputs": [],
   "source": [
    "# 5. Divide seconds_per_day by seconds_per_hour. Use floating-point (/) division.\n",
    "result_float_division = seconds_per_day / seconds_per_hour\n",
    "print(result_float_division)"
   ]
  },
  {
   "cell_type": "code",
   "execution_count": null,
   "id": "aa5da8e2",
   "metadata": {},
   "outputs": [],
   "source": [
    "# 6. Divide seconds_per_day by seconds_per_hour, using integer (//) division. Did this number agree with the floating-point value from the previous question, aside from the final .0?\n",
    "result_integer_division = seconds_per_day // seconds_per_hour\n",
    "print(result_integer_division)"
   ]
  },
  {
   "cell_type": "code",
   "execution_count": null,
   "id": "ed534c2b",
   "metadata": {},
   "outputs": [],
   "source": [
    "# 7. Write a generator, genPrimes, that returns the sequence of prime numbers on successive calls to its next() method: 2, 3, 5, 7, 11, ...\n",
    "\n",
    "def genPrimes():\n",
    "    primes = []\n",
    "    n = 2\n",
    "    while True:\n",
    "        for p in primes:\n",
    "            if n % p == 0:\n",
    "                break\n",
    "        else:\n",
    "            primes.append(n)\n",
    "            yield n\n",
    "        n += 1\n",
    "\n",
    "# Example usage:\n",
    "prime_generator = genPrimes()\n",
    "print(next(prime_generator))  # 2\n",
    "print(next(prime_generator))  # 3\n",
    "print(next(prime_generator))  # 5\n",
    "print(next(prime_generator))  # 7\n",
    "print(next(prime_generator))  # 11\n"
   ]
  }
 ],
 "metadata": {
  "kernelspec": {
   "display_name": "Python 3 (ipykernel)",
   "language": "python",
   "name": "python3"
  },
  "language_info": {
   "codemirror_mode": {
    "name": "ipython",
    "version": 3
   },
   "file_extension": ".py",
   "mimetype": "text/x-python",
   "name": "python",
   "nbconvert_exporter": "python",
   "pygments_lexer": "ipython3",
   "version": "3.10.9"
  }
 },
 "nbformat": 4,
 "nbformat_minor": 5
}
