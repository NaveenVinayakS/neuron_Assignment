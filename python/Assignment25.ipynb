{
 "cells": [
  {
   "cell_type": "code",
   "execution_count": null,
   "id": "79b4d790",
   "metadata": {},
   "outputs": [],
   "source": [
    "# 1 What is the difference between enclosing a list comprehension in square brackets and parentheses?\n",
    "Square brackets [] are used to create a list comprehension, which generates a new list. Parentheses () are used to create a generator expression, which produces an iterator. The key differences are:\n",
    "\n",
    "List comprehension creates a list and stores all the elements in memory at once, while a generator expression produces elements on-the-fly and doesn't store them in memory.\n",
    "List comprehensions are generally faster for small collections, while generator expressions are more memory-efficient and suitable for large collections.\n",
    "You can iterate through a list comprehension multiple times, while a generator expression can only be iterated through once (unless recreated)."
   ]
  },
  {
   "cell_type": "code",
   "execution_count": 1,
   "id": "56f17a2b",
   "metadata": {},
   "outputs": [
    {
     "data": {
      "text/plain": [
       "[0, 1, 2, 3, 4]"
      ]
     },
     "execution_count": 1,
     "metadata": {},
     "output_type": "execute_result"
    }
   ],
   "source": [
    "list_comp = [x for x in range(5)]  # Creates a list\n",
    "list_comp"
   ]
  },
  {
   "cell_type": "code",
   "execution_count": 2,
   "id": "7758f855",
   "metadata": {},
   "outputs": [
    {
     "data": {
      "text/plain": [
       "<generator object <genexpr> at 0x0000022CECA45EE0>"
      ]
     },
     "execution_count": 2,
     "metadata": {},
     "output_type": "execute_result"
    }
   ],
   "source": [
    "gen_expr = (x for x in range(5))  # Creates an iterator\n",
    "gen_expr"
   ]
  },
  {
   "cell_type": "code",
   "execution_count": null,
   "id": "24647768",
   "metadata": {},
   "outputs": [],
   "source": [
    "# 2 What is the relationship between generators and iterators?\n",
    "A generator is a specific type of iterator in Python. Generators are created using functions with one or more yield \n",
    "statements. When a generator function is called, it returns a generator iterator, which can be used to iterate through the\n",
    "values produced by the yield statements. An iterator is a more general concept that includes generators as a specific case. Iterators are objects that implement the __iter__ and __next__ methods, allowing them to be iterated over in a loop."
   ]
  },
  {
   "cell_type": "code",
   "execution_count": null,
   "id": "359c33c2",
   "metadata": {},
   "outputs": [],
   "source": [
    "# 3 What are the signs that a function is a generator function?\n",
    "A function is a generator function if it contains one or more yield statements. The presence of a yield statement is the\n",
    "key indicator that a function is intended to be a generator.\n",
    "\n",
    "def my_generator():\n",
    "    yield 1\n",
    "    yield 2\n",
    "    yield 3\n"
   ]
  },
  {
   "cell_type": "code",
   "execution_count": null,
   "id": "73f5ccde",
   "metadata": {},
   "outputs": [],
   "source": [
    "# 4 What is the purpose of a yield statement?\n",
    "The yield statement is used in a generator function to yield a value to the caller while preserving the functions state.\n",
    "When a generator function is called, it doesnt execute the function body immediately. Instead, it returns a generator\n",
    "iterator. Each time the yield statement is encountered during iteration, the function state is frozen, and the yielded\n",
    "value is sent to the caller. The function can then be resumed from where it left off, maintaining its local variables and\n",
    "execution context. This allows for efficient iteration over potentially large sequences of data without storing all the \n",
    "values in memory."
   ]
  },
  {
   "cell_type": "code",
   "execution_count": null,
   "id": "0fc4dd0c",
   "metadata": {},
   "outputs": [],
   "source": [
    "# 5 What is the relationship between map calls and list comprehensions? Make a comparison and contrast between the two.\n",
    "Both map calls and list comprehensions are used to apply a function to each element in a sequence (e.g., a list) and produce a new sequence. Here's a comparison and contrast between the two:\n",
    "\n",
    "Map:\n",
    "\n",
    "Returns a map object (an iterator) by default, so you need to convert it to a list or another iterable type.\n",
    "Requires a separate function to be passed as an argument.\n",
    "Often used when you want to apply a function to each element of one or more iterables.\n",
    "Lazy evaluation, which means it generates values on-the-fly without storing them in memory.\n",
    "List Comprehension:\n",
    "\n",
    "Returns a new list.\n",
    "Allows you to apply an expression directly to each element.\n",
    "Typically used when you want to create a new list by transforming elements from an existing list.\n",
    "Eager evaluation, which means it creates the entire list in memory."
   ]
  }
 ],
 "metadata": {
  "kernelspec": {
   "display_name": "Python 3 (ipykernel)",
   "language": "python",
   "name": "python3"
  },
  "language_info": {
   "codemirror_mode": {
    "name": "ipython",
    "version": 3
   },
   "file_extension": ".py",
   "mimetype": "text/x-python",
   "name": "python",
   "nbconvert_exporter": "python",
   "pygments_lexer": "ipython3",
   "version": "3.10.9"
  }
 },
 "nbformat": 4,
 "nbformat_minor": 5
}
