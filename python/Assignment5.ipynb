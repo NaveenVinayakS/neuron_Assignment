{
 "cells": [
  {
   "cell_type": "code",
   "execution_count": null,
   "id": "d207b370",
   "metadata": {},
   "outputs": [],
   "source": [
    "Q1. What is the meaning of multiple inheritance?\n",
    "\n",
    "Multiple inheritance is a feature in object-oriented programming languages where a class can inherit attributes and methods from more than one parent class. In Python, you can achieve multiple inheritance by specifying multiple parent classes in the class definition. This allows a subclass to inherit attributes and methods from multiple classes."
   ]
  },
  {
   "cell_type": "code",
   "execution_count": null,
   "id": "95b932a3",
   "metadata": {},
   "outputs": [],
   "source": [
    "Q2. What is the concept of delegation?\n",
    "\n",
    "Delegation is a design pattern in which an object passes responsibility for a particular task or operation to another object. This is typically achieved by calling methods or accessing properties of the delegated object from within the delegating object. Delegation is commonly used to promote code reuse and maintainability."
   ]
  },
  {
   "cell_type": "code",
   "execution_count": null,
   "id": "26018c32",
   "metadata": {},
   "outputs": [],
   "source": [
    "Q3. What is the concept of composition?\n",
    "\n",
    "Composition is a design principle in object-oriented programming where complex objects are built by combining simpler objects or components. It involves creating a new class by including instances of other classes as attributes. Composition promotes code reuse and flexibility."
   ]
  },
  {
   "cell_type": "code",
   "execution_count": null,
   "id": "8b14e191",
   "metadata": {},
   "outputs": [],
   "source": [
    "Q4. What are bound methods and how do we use them?\n",
    "\n",
    "In Python, a bound method is a method that is associated with an instance of a class. When you call a bound method, the instance is automatically passed as the first argument (usually named self). This binding allows the method to access and operate on the instance's attributes."
   ]
  },
  {
   "cell_type": "code",
   "execution_count": null,
   "id": "4dd36d64",
   "metadata": {},
   "outputs": [],
   "source": [
    "Q5. What is the purpose of pseudoprivate attributes?\n",
    "\n",
    "In Python, pseudoprivate attributes are attributes that are intended to be private (not directly accessible from outside the class), but their names are \"mangled\" by adding a prefix of double underscores __ to avoid name clashes in subclasses. These attributes are not truly private, but the double underscores make them harder to access unintentionally."
   ]
  }
 ],
 "metadata": {
  "kernelspec": {
   "display_name": "Python 3 (ipykernel)",
   "language": "python",
   "name": "python3"
  },
  "language_info": {
   "codemirror_mode": {
    "name": "ipython",
    "version": 3
   },
   "file_extension": ".py",
   "mimetype": "text/x-python",
   "name": "python",
   "nbconvert_exporter": "python",
   "pygments_lexer": "ipython3",
   "version": "3.10.9"
  }
 },
 "nbformat": 4,
 "nbformat_minor": 5
}
