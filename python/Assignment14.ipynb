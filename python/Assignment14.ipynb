{
 "cells": [
  {
   "cell_type": "code",
   "execution_count": null,
   "id": "8413867d",
   "metadata": {},
   "outputs": [],
   "source": [
    "# 1. What does RGBA stand for?\n",
    "RGBA stands for Red, Green, Blue, and Alpha. It is a color model used to represent colors in digital images, where the Red, Green, and Blue channels determine the color of a pixel, and the Alpha channel represents the pixel's transparency or opacity."
   ]
  },
  {
   "cell_type": "code",
   "execution_count": null,
   "id": "630bc343",
   "metadata": {},
   "outputs": [],
   "source": [
    "# 2. From the Pillow module, how do you get the RGBA value of any images?\n",
    "from PIL import Image\n",
    "\n",
    "# Open an image\n",
    "image = Image.open('your_image.png')\n",
    "\n",
    "# Get the RGBA value of a pixel at coordinates (x, y)\n",
    "rgba_value = image.getpixel((x, y))\n"
   ]
  },
  {
   "cell_type": "code",
   "execution_count": null,
   "id": "8e8c53d0",
   "metadata": {},
   "outputs": [],
   "source": [
    "# 3. What is a box tuple, and how does it work?\n",
    "In Pillow, a box tuple is a tuple representing a rectangular region in the form of (left, upper, right, lower), \n",
    "where (left, upper) is the coordinate of the top-left corner, and (right, lower) is the coordinate of the bottom-right\n",
    "corner. You can use box tuples to define regions for various image manipulation operations like cropping and pasting."
   ]
  },
  {
   "cell_type": "code",
   "execution_count": null,
   "id": "e8c828cc",
   "metadata": {},
   "outputs": [],
   "source": [
    "# 4. How can you find out the width and height of an Image object loaded in a notebook?\n",
    "image = Image.open('your_image.png')\n",
    "width, height = image.size\n",
    "print(f'Width: {width}, Height: {height}')\n"
   ]
  },
  {
   "cell_type": "code",
   "execution_count": null,
   "id": "10618d6c",
   "metadata": {},
   "outputs": [],
   "source": [
    "# 5. What method would you call to get an Image object for a 100×100 image, excluding the lower-left quarter of it?\n",
    "image = Image.open('your_image.png')\n",
    "width, height = image.size\n",
    "\n",
    "# Crop a 100x100 region starting from (100, 100)\n",
    "cropped_image = image.crop((100, 100, 200, 200))\n"
   ]
  },
  {
   "cell_type": "code",
   "execution_count": null,
   "id": "00943c1e",
   "metadata": {},
   "outputs": [],
   "source": [
    "# 6. After making changes to an Image object, how could you save it as an image file?\n",
    "\n",
    "image.save('output_image.png')  # Save as a PNG file\n"
   ]
  },
  {
   "cell_type": "code",
   "execution_count": null,
   "id": "bc307b4e",
   "metadata": {},
   "outputs": [],
   "source": [
    "# 7. What module contains Pillow’s shape-drawing code?\n",
    "Pillow shape-drawing code is part of the ImageDraw module in the Pillow library. \n",
    "\n",
    "# 8. Image objects do not have drawing methods. What kind of object does? How do you get this kind of object?\n",
    "from PIL import Image, ImageDraw\n",
    "\n",
    "image = Image.open('your_image.png')\n",
    "draw = ImageDraw.Draw(image)\n"
   ]
  }
 ],
 "metadata": {
  "kernelspec": {
   "display_name": "Python 3 (ipykernel)",
   "language": "python",
   "name": "python3"
  },
  "language_info": {
   "codemirror_mode": {
    "name": "ipython",
    "version": 3
   },
   "file_extension": ".py",
   "mimetype": "text/x-python",
   "name": "python",
   "nbconvert_exporter": "python",
   "pygments_lexer": "ipython3",
   "version": "3.10.9"
  }
 },
 "nbformat": 4,
 "nbformat_minor": 5
}
