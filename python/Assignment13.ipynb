{
 "cells": [
  {
   "cell_type": "code",
   "execution_count": null,
   "id": "a6072fad",
   "metadata": {},
   "outputs": [],
   "source": [
    "# 1. Advantages of Excel Spreadsheets over CSV Spreadsheets:\n",
    "Excel spreadsheets have several advantages over CSV spreadsheets:\n",
    "\n",
    "Excel supports formatting, formulas, and macros, making it more suitable for complex data and calculations.\n",
    "Excel can handle multiple worksheets in a single file, which is useful for organizing data.\n",
    "Excel allows for visual charts and graphs, enhancing data presentation.\n",
    "Excel files (.xlsx) can store multiple data types, including text, numbers, dates, and more, in a structured manner.\n",
    "\n",
    "# 2. What to Pass to csv.reader() and csv.writer() Functions:\n",
    "\n",
    "To create a reader object, pass a file object opened for reading (e.g., open('file.csv', 'r')) to csv.reader(file).\n",
    "To create a writer object, pass a file object opened for writing (e.g., open('file.csv', 'w')) to csv.writer(file).\n",
    "\n",
    "# 3. Modes for File Objects with csv.reader() and csv.writer():\n",
    "\n",
    "For csv.reader(), the file object should be opened in read mode ('r').\n",
    "For csv.writer(), the file object should be opened in write mode ('w').\n",
    "\n",
    "# 4. Method to Write a List to a CSV File:\n",
    "\n",
    "You can use the writerow() method of the writer object to write a list to a CSV file. For example, if writer is your CSV writer object, you can use writer.writerow(my_list) to write the list to the CSV file.\n",
    "\n",
    "# 5. Purpose of delimiter and line_terminator Keyword Arguments:\n",
    "\n",
    "delimiter specifies the character that separates fields in a CSV file (e.g., a comma or semicolon).\n",
    "line_terminator specifies the character(s) used to separate lines in the CSV file (e.g., '\\n' for a new line)."
   ]
  },
  {
   "cell_type": "code",
   "execution_count": null,
   "id": "407b6ce3",
   "metadata": {},
   "outputs": [],
   "source": [
    "# 6. To convert a string of JSON data into a Python data structure, you can use the json.loads() \n",
    "import json\n",
    "\n",
    "json_data = '{\"name\": \"John\", \"age\": 30, \"city\": \"New York\"}'\n",
    "python_data = json.loads(json_data)\n",
    "\n",
    "print(python_data)\n"
   ]
  },
  {
   "cell_type": "code",
   "execution_count": null,
   "id": "cd9bacad",
   "metadata": {},
   "outputs": [],
   "source": [
    "# 7. To convert a Python data structure into a string of JSON data, you can use the json.dumps()\n",
    "\n",
    "import json\n",
    "\n",
    "python_data = {\n",
    "    \"name\": \"John\",\n",
    "    \"age\": 30,\n",
    "    \"city\": \"New York\"\n",
    "}\n",
    "\n",
    "json_data = json.dumps(python_data)\n",
    "\n",
    "print(json_data)\n"
   ]
  }
 ],
 "metadata": {
  "kernelspec": {
   "display_name": "Python 3 (ipykernel)",
   "language": "python",
   "name": "python3"
  },
  "language_info": {
   "codemirror_mode": {
    "name": "ipython",
    "version": 3
   },
   "file_extension": ".py",
   "mimetype": "text/x-python",
   "name": "python",
   "nbconvert_exporter": "python",
   "pygments_lexer": "ipython3",
   "version": "3.10.9"
  }
 },
 "nbformat": 4,
 "nbformat_minor": 5
}
