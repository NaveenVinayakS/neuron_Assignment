{
 "cells": [
  {
   "cell_type": "code",
   "execution_count": null,
   "id": "aa721ca3",
   "metadata": {},
   "outputs": [],
   "source": [
    "# 1. Create a list called years_list, starting with the year of your birth, and each year thereafter until the year of your fifth birthday. For example, if you were born in 1980. the list would be years_list = [1980, 1981, 1982, 1983, 1984, 1985].\n",
    "\n",
    "birth_year = 1990  # Replace with your birth year\n",
    "years_list = list(range(birth_year, birth_year + 6))\n",
    "print(years_list)\n"
   ]
  },
  {
   "cell_type": "code",
   "execution_count": null,
   "id": "5b334f94",
   "metadata": {},
   "outputs": [],
   "source": [
    "# 2. In which year in years_list was your third birthday? Remember, you were 0 years of age for your first year.\n",
    "third_birthday_year = years_list[3]\n",
    "print(third_birthday_year)\n"
   ]
  },
  {
   "cell_type": "code",
   "execution_count": null,
   "id": "a058aff3",
   "metadata": {},
   "outputs": [],
   "source": [
    "# 3. In the years list, which year were you the oldest?\n",
    "oldest_year = years_list[-1]\n",
    "print(oldest_year)\n"
   ]
  },
  {
   "cell_type": "code",
   "execution_count": null,
   "id": "28436c26",
   "metadata": {},
   "outputs": [],
   "source": [
    "# 4. Make a list called things with these three strings as elements:\n",
    "things = [\"mozzarella\", \"cinderella\", \"salmonella\"]\n",
    "\n",
    "# 5.Capitalize the element in things that refers to a person and then print the list:\n",
    "things[1] = things[1].capitalize()\n",
    "print(things)\n",
    "\n",
    "# 6. Make a surprise list with the elements \"Groucho,\" \"Chico,\" and \"Harpo\":\n",
    "surprise = [\"Groucho\", \"Chico\", \"Harpo\"]\n",
    "\n",
    "# 7. Lowercase the last element of the surprise list, reverse it, and then capitalize it:\n",
    "surprise[-1] = surprise[-1].lower()[::-1].capitalize()\n",
    "\n",
    "# 8. Make an English-to-French dictionary called e2f and print it:\n",
    "e2f = {\n",
    "    \"dog\": \"chien\",\n",
    "    \"cat\": \"chat\",\n",
    "    \"walrus\": \"morse\"\n",
    "}\n",
    "print(e2f)\n",
    "\n",
    "# 9. Write the French word for walrus in your three-word dictionary e2f:\n",
    "french_word_for_walrus = e2f[\"walrus\"]\n",
    "print(french_word_for_walrus)\n",
    "\n",
    "# 10. Make a French-to-English dictionary called f2e from e2f using the items method:\n",
    "f2e = {french: english for english, french in e2f.items()}\n",
    "\n",
    "# 13. Make a multilevel dictionary called life:\n",
    "life = {\n",
    "    \"animals\": {\n",
    "        \"cats\": [\"Henri\", \"Grumpy\", \"Lucy\"],\n",
    "        \"octopi\": {},\n",
    "        \"emus\": {}\n",
    "    },\n",
    "    \"plants\": {},\n",
    "    \"other\": {}\n",
    "}\n",
    "\n",
    "# 14 Print the top-level keys of life:\n",
    "top_level_keys = list(life.keys())\n",
    "print(top_level_keys)\n",
    "\n",
    "# 15 Print the keys for life['animals']:\n",
    "animal_keys = list(life[\"animals\"].keys())\n",
    "print(animal_keys)\n",
    "\n",
    "# 16 Print the values for life['animals']['cats']:\n",
    "cat_names = life[\"animals\"][\"cats\"]\n",
    "print(cat_names)\n"
   ]
  }
 ],
 "metadata": {
  "kernelspec": {
   "display_name": "Python 3 (ipykernel)",
   "language": "python",
   "name": "python3"
  },
  "language_info": {
   "codemirror_mode": {
    "name": "ipython",
    "version": 3
   },
   "file_extension": ".py",
   "mimetype": "text/x-python",
   "name": "python",
   "nbconvert_exporter": "python",
   "pygments_lexer": "ipython3",
   "version": "3.10.9"
  }
 },
 "nbformat": 4,
 "nbformat_minor": 5
}
