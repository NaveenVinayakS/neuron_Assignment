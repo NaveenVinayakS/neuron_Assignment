{
 "cells": [
  {
   "cell_type": "code",
   "execution_count": null,
   "id": "39994312",
   "metadata": {},
   "outputs": [],
   "source": [
    "# 1. Create an assert statement that throws an AssertionError if the variable spam is a negative integer.\n",
    "assert spam >= 0, \"spam should be a non-negative integer\"\n"
   ]
  },
  {
   "cell_type": "code",
   "execution_count": null,
   "id": "81841835",
   "metadata": {},
   "outputs": [],
   "source": [
    "# 2. Write an assert statement that triggers an AssertionError if the variables eggs and bacon contain strings that are the same as each other, even if their cases are different.\n",
    "\n",
    "assert eggs.lower() != bacon.lower(), \"eggs and bacon strings should not be the same (case-insensitive)\"\n"
   ]
  },
  {
   "cell_type": "code",
   "execution_count": null,
   "id": "4bc3caac",
   "metadata": {},
   "outputs": [],
   "source": [
    "# 3. Create an assert statement that throws an AssertionError every time.\n",
    "\n",
    "This is typically not useful but can be done with a constant False assertion:\n",
    "    assert False, \"This assertion always triggers an AssertionError\"\n"
   ]
  },
  {
   "cell_type": "code",
   "execution_count": null,
   "id": "665c5513",
   "metadata": {},
   "outputs": [],
   "source": [
    "# 4. What are the two lines that must be present in your software in order to call logging.debug()?\n",
    "\n",
    "You need to import the logging module and configure the logging level\n",
    "import logging\n",
    "logging.basicConfig(level=logging.DEBUG)\n"
   ]
  },
  {
   "cell_type": "code",
   "execution_count": null,
   "id": "cd8c03e3",
   "metadata": {},
   "outputs": [],
   "source": [
    "# 5. What are the two lines that your program must have in order to have logging.debug() send a logging message to a file named programLog.txt?\n",
    "\n",
    "import logging\n",
    "logging.basicConfig(filename='programLog.txt', level=logging.DEBUG)\n"
   ]
  },
  {
   "cell_type": "code",
   "execution_count": null,
   "id": "d131b134",
   "metadata": {},
   "outputs": [],
   "source": [
    "# 6. What are the five levels of logging?\n",
    "\n",
    "The five standard levels of logging in Python, in increasing order of severity, are:\n",
    "\n",
    "DEBUG\n",
    "INFO\n",
    "WARNING\n",
    "ERROR\n",
    "CRITICAL"
   ]
  },
  {
   "cell_type": "code",
   "execution_count": null,
   "id": "ebcdb5b1",
   "metadata": {},
   "outputs": [],
   "source": [
    "# 7. What line of code would you add to your software to disable all logging messages?\n",
    "\n",
    "To disable all logging messages, you can set the logging level to CRITICAL or a higher level\n",
    "logging.basicConfig(level=logging.CRITICAL)\n"
   ]
  },
  {
   "cell_type": "code",
   "execution_count": null,
   "id": "1edbdb31",
   "metadata": {},
   "outputs": [],
   "source": [
    "# 8. Why is using logging messages better than using print() to display the same message?\n",
    "\n",
    "Logging offers several advantages over using print() for debugging and logging in software development:\n",
    "\n",
    "You can control the verbosity by setting the logging level.\n",
    "You can easily direct log output to different destinations (e.g., files, console, network).\n",
    "Logs are more structured and can include timestamps and log levels.\n",
    "Logging can be enabled or disabled without code modification.\n",
    "It allows for better debugging in production environments."
   ]
  },
  {
   "cell_type": "code",
   "execution_count": null,
   "id": "586d2cd9",
   "metadata": {},
   "outputs": [],
   "source": [
    "# 9. What are the differences between the Step Over, Step In, and Step Out buttons in the debugger?\n",
    "\n",
    "Step Over: It allows you to execute the current line of code and then move to the next line in the current function. If the current line contains a function call, it will execute that function but not step into it.\n",
    "\n",
    "Step In: It allows you to move into the function that is called on the current line, effectively entering the called function and debugging its code line by line.\n",
    "\n",
    "Step Out: It allows you to run the program until the current function returns. It's useful when you've stepped into a function and want to return to the calling function."
   ]
  },
  {
   "cell_type": "code",
   "execution_count": null,
   "id": "2b254ae1",
   "metadata": {},
   "outputs": [],
   "source": [
    "# 10. After you click Continue, when will the debugger stop?\n",
    "\n",
    "The debugger will stop when it encounters another breakpoint or when the program finishes executing."
   ]
  },
  {
   "cell_type": "code",
   "execution_count": null,
   "id": "77dcf9a8",
   "metadata": {},
   "outputs": [],
   "source": [
    "# 11.What is the concept of a breakpoint?\n",
    "\n",
    "A breakpoint is a designated point in your code where a debugger will pause or stop the program execution so that you \n",
    "\\can inspect the program state, variables, and the call stack. Breakpoints are used for debugging purposes, \n",
    "allowing you to analyze the behavior of your code at specific points in the programs flow. You can set breakpoints at lines\n",
    "of code you want to investigate further and step through your program from that point onward."
   ]
  }
 ],
 "metadata": {
  "kernelspec": {
   "display_name": "Python 3 (ipykernel)",
   "language": "python",
   "name": "python3"
  },
  "language_info": {
   "codemirror_mode": {
    "name": "ipython",
    "version": 3
   },
   "file_extension": ".py",
   "mimetype": "text/x-python",
   "name": "python",
   "nbconvert_exporter": "python",
   "pygments_lexer": "ipython3",
   "version": "3.10.9"
  }
 },
 "nbformat": 4,
 "nbformat_minor": 5
}
