{
 "cells": [
  {
   "cell_type": "code",
   "execution_count": 2,
   "id": "829a6a5c",
   "metadata": {},
   "outputs": [
    {
     "name": "stdout",
     "output_type": "stream",
     "text": [
      "1 2 8\n"
     ]
    }
   ],
   "source": [
    "#1. What is the result of the code, and why?\n",
    "def func(a, b=6, c=8):\n",
    "    print(a, b, c)\n",
    "func(1, 2)\n",
    "\n",
    "#Answer: The code prints 1 2 8. When calling the func function, you provide values for a and b, and c takes its default value of 8."
   ]
  },
  {
   "cell_type": "code",
   "execution_count": 11,
   "id": "8001406e",
   "metadata": {},
   "outputs": [
    {
     "name": "stdout",
     "output_type": "stream",
     "text": [
      "1 2 3\n"
     ]
    }
   ],
   "source": [
    "#2. What is the result of this code, and why?\n",
    "def func(a, b, c=5):\n",
    "    print(a, b, c)\n",
    "func(1, c=3, b=2)\n",
    "\n",
    "#Answer: The code prints 1 2 3. In this case, you explicitly specify the values for b and c when calling the function,\n",
    "#which overrides the default values.\n"
   ]
  },
  {
   "cell_type": "code",
   "execution_count": 4,
   "id": "ec220543",
   "metadata": {},
   "outputs": [
    {
     "name": "stdout",
     "output_type": "stream",
     "text": [
      "1 (2, 3)\n"
     ]
    }
   ],
   "source": [
    "#3. How about this code: what is its result, and why?\n",
    "def func(a, *pargs):\n",
    "    print(a, pargs)\n",
    "func(1, 2, 3)\n",
    "# Answer: The code prints 1 (2, 3). Here, *pargs is used to capture any additional positional arguments into a tuple. So, when you call func(1, 2, 3), the first argument 1 is assigned to a, and the remaining arguments (2, 3) are collected into the tuple pargs."
   ]
  },
  {
   "cell_type": "code",
   "execution_count": 5,
   "id": "3c9591ee",
   "metadata": {},
   "outputs": [
    {
     "name": "stdout",
     "output_type": "stream",
     "text": [
      "1 {'c': 3, 'b': 2}\n"
     ]
    }
   ],
   "source": [
    "#4. What does this code print, and why?\n",
    "def func(a, **kargs):\n",
    "    print(a, kargs)\n",
    "func(a=1, c=3, b=2)\n",
    "\n",
    "# Answer: The code prints 1 {'c': 3, 'b': 2}. In this case, **kargs is used to capture keyword arguments as a dictionary. When you call func(a=1, c=3, b=2), the value of a is 1, and the remaining keyword arguments are collected into the dictionary kargs.\n"
   ]
  },
  {
   "cell_type": "code",
   "execution_count": 6,
   "id": "27ba0982",
   "metadata": {},
   "outputs": [
    {
     "name": "stdout",
     "output_type": "stream",
     "text": [
      "1 5 6 5\n"
     ]
    }
   ],
   "source": [
    "#5. What gets printed by this, and explain?\n",
    "def func(a, b, c=8, d=5): print(a, b, c, d)\n",
    "func(1, *(5, 6))\n",
    "# Answer: The code prints 1 5 6 5. Here, the * operator is used to unpack the tuple (5, 6) and pass its elements as separate arguments to the function. So, 1 is assigned to a, 5 to b, 6 to c (overriding the default value), and 5 to d."
   ]
  },
  {
   "cell_type": "code",
   "execution_count": 10,
   "id": "8b9cdbfb",
   "metadata": {},
   "outputs": [
    {
     "data": {
      "text/plain": [
       "(1, ['x'], {'a': 'y'})"
      ]
     },
     "execution_count": 10,
     "metadata": {},
     "output_type": "execute_result"
    }
   ],
   "source": [
    "#6. what is the result of this, and explain?\n",
    "def func(a, b, c):\n",
    "    a = 2; b[0] = 'x'; c['a'] = 'y'\n",
    "l=1; m=[1]; n={'a':0}\n",
    "func(l, m, n)\n",
    "l, m, n\n",
    "#Answer: After calling func(l, m, n), l remains unchanged (1), but m and n are modified. m becomes [x] because lists are mutable, and n becomes {'a': 'y'} because dictionaries are also mutable. So, the final values of l, m, and n are 1, [x], and {'a': 'y', respectively."
   ]
  },
  {
   "cell_type": "code",
   "execution_count": null,
   "id": "8f957e81",
   "metadata": {},
   "outputs": [],
   "source": []
  }
 ],
 "metadata": {
  "kernelspec": {
   "display_name": "Python 3 (ipykernel)",
   "language": "python",
   "name": "python3"
  },
  "language_info": {
   "codemirror_mode": {
    "name": "ipython",
    "version": 3
   },
   "file_extension": ".py",
   "mimetype": "text/x-python",
   "name": "python",
   "nbconvert_exporter": "python",
   "pygments_lexer": "ipython3",
   "version": "3.10.9"
  }
 },
 "nbformat": 4,
 "nbformat_minor": 5
}
