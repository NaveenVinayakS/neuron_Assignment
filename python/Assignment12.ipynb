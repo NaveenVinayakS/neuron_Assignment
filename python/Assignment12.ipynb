{
 "cells": [
  {
   "cell_type": "code",
   "execution_count": null,
   "id": "ad3ca472",
   "metadata": {},
   "outputs": [],
   "source": [
    "# 1. In what modes should the PdfFileReader() and PdfFileWriter() File objects be opened?\n",
    "\n",
    "pdf_reader = PdfFileReader(open('example.pdf', 'rb'))\n",
    "pdf_writer = PdfFileWriter()"
   ]
  },
  {
   "cell_type": "code",
   "execution_count": null,
   "id": "6209c0a7",
   "metadata": {},
   "outputs": [],
   "source": [
    "# 2. From a PdfFileReader object, how do you get a Page object for page 5?\n",
    "page = pdf_reader.getPage(4)  # Page numbers are 0-based, so 4 represents page 5.\n"
   ]
  },
  {
   "cell_type": "code",
   "execution_count": null,
   "id": "5527dd35",
   "metadata": {},
   "outputs": [],
   "source": [
    "# 3. What PdfFileReader variable stores the number of pages in the PDF document?\n",
    "num_pages = pdf_reader.numPages"
   ]
  },
  {
   "cell_type": "code",
   "execution_count": null,
   "id": "760fa39c",
   "metadata": {},
   "outputs": [],
   "source": [
    "# 4. If a PdfFileReader object’s PDF is encrypted with the password 'swordfish', what must you do before you can obtain Page objects from it?\n",
    "pdf_reader.decrypt('swordfish')"
   ]
  },
  {
   "cell_type": "code",
   "execution_count": null,
   "id": "a46d2558",
   "metadata": {},
   "outputs": [],
   "source": [
    "# 5. What methods do you use to rotate a page?\n",
    "page = pdf_reader.getPage(0)\n",
    "page.rotateClockwise(90)  # Rotate the page 90 degrees clockwise."
   ]
  },
  {
   "cell_type": "code",
   "execution_count": null,
   "id": "e98e1918",
   "metadata": {},
   "outputs": [],
   "source": [
    "# 6. What is the difference between a Run object and a Paragraph object?\n",
    "\n",
    "In the context of working with Word documents using Python python-docx library, a Paragraph object represents a \n",
    "single paragraph in a Word document, which may contain multiple runs. A Run object represents a contiguous run of text\n",
    "within a paragraph with the same formatting.\n",
    "\n",
    "# 7. How do you obtain a list of Paragraph objects for a Document object that’s stored in a variable named 'doc'?\n",
    "paragraphs = doc.paragraphs"
   ]
  },
  {
   "cell_type": "code",
   "execution_count": null,
   "id": "78afb0a9",
   "metadata": {},
   "outputs": [],
   "source": [
    "# 8. What type of object has bold, underline, italic, strike, and outline variables?\n",
    "\n",
    "formatting attributes are typically associated with a Run object in the python-docx library. You can use the Run objects\n",
    "attributes to control formatting within a paragraph.\n",
    "\n",
    "# 9. What is the difference between False, True, and None for the bold variable?\n",
    "the bold variable for a Run object controls the bold formatting of text. Setting bold to True makes the text bold, setting \n",
    "it to False removes bold formatting, and setting it to None means no explicit value is set, and the default formatting will\n",
    "be used.\n",
    "\n",
    "# 10.How do you create a Document object for a new Word document?\n",
    "To create a Document object for a new Word document in the python-docx library\n",
    "from docx import Document\n",
    "\n",
    "doc = Document()  # Creates a new, empty Word document.\n",
    "\n",
    "# 11. How do you add a paragraph with the text 'Hello, there!' to a Document object stored in a variable named 'doc'?\n",
    "doc.add_paragraph('Hello, there!')\n",
    "\n",
    "# 12. What integers represent the levels of headings available in Word documents?\n",
    "In Word documents, heading levels are typically represented by integers from 1 to 9. Heading 1 is represented by the \n",
    "integer 1, heading 2 by 2, and so on up to heading 9. "
   ]
  }
 ],
 "metadata": {
  "kernelspec": {
   "display_name": "Python 3 (ipykernel)",
   "language": "python",
   "name": "python3"
  },
  "language_info": {
   "codemirror_mode": {
    "name": "ipython",
    "version": 3
   },
   "file_extension": ".py",
   "mimetype": "text/x-python",
   "name": "python",
   "nbconvert_exporter": "python",
   "pygments_lexer": "ipython3",
   "version": "3.10.9"
  }
 },
 "nbformat": 4,
 "nbformat_minor": 5
}
