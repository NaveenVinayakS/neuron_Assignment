{
 "cells": [
  {
   "cell_type": "code",
   "execution_count": null,
   "id": "5f21ad2a",
   "metadata": {},
   "outputs": [],
   "source": [
    "# 1 What is the relationship between def statements and lambda expressions?\n",
    "\n",
    "def statements are used to define named functions in Python, which can have multiple statements, a name, and can be reused \n",
    "and called multiple times.Lambda expressions, on the other hand, are used to create small, anonymous functions without a \n",
    "specific name. They are typically used for short, simple operations and are often used inline.In summary, the main \n",
    "difference is that def statements define named functions, while lambda expressions define anonymous functions.\n",
    "\n",
    "# 2 What is the benefit of lambda?\n",
    "\n",
    "The primary benefit of lambda expressions is their conciseness and convenience. They are often used for small, \n",
    "simple operations where defining a full function using def would be overkill. Lambdas are useful in functional programming\n",
    "constructs like map, filter, and reduce, where you need a quick, disposable function.\n",
    "\n",
    "# 3 Compare and contrast map, filter, and reduce.\n",
    "\n",
    "map: Applies a given function to all items in an iterable and returns a new iterable with the results.\n",
    "filter: Filters an iterable based on a given function, returning only the elements that meet the specified condition.\n",
    "reduce: Applies a given function cumulatively to the items of an iterable, reducing it to a single value.\n",
    "All three functions are used for data transformation and manipulation, but they serve different purposes. map transforms all items, filter selects specific items, and reduce aggregates the items.\n",
    "\n",
    "# 4 What are function annotations, and how are they used?\n",
    "\n",
    "Function annotations are a way to attach metadata to the parameters and return value of a function. They dont affect the \n",
    "functions behavior but provide information about the intended usage. Annotations are added as expressions following a \n",
    "colon after the parameter name or the return arrow (->) for the return value\n",
    "\n",
    "# 5 What are recursive functions, and how are they used?\n",
    "\n",
    "Recursive functions are functions that call themselves in their definition. They are often used for solving problems that\n",
    "can be broken down into smaller, similar sub-problems. Recursion can make code more elegant and easier to understand for \n",
    "some problems, but it should be used with caution to avoid stack overflow errors.\n",
    "\n",
    "# 6 What are some general design guidelines for coding functions?\n",
    "\n",
    "Some general guidelines for coding functions in Python include:\n",
    "\n",
    "Keeping functions small and focused on a single task (the \"Single Responsibility Principle\").\n",
    "Using clear and descriptive function names.\n",
    "Providing meaningful documentation and comments.\n",
    "Using function arguments and return values effectively.\n",
    "Avoiding global variables within functions.\n",
    "Following the Python PEP 8 style guide for code consistency.\n",
    "Name three or more ways that functions can communicate results to a caller.\n",
    "\n",
    "# 7 Functions can communicate results to a caller through:\n",
    "\n",
    "Return values: Functions can return one or more values using the return statement.\n",
    "Global variables: Functions can modify or access global variables to share data with the caller.\n",
    "Output to standard output: Functions can use print statements to display information to the console.\n",
    "Exceptions: Functions can raise exceptions to signal errors or exceptional conditions to the caller.\n",
    "Data structures: Functions can modify data structures, such as lists or dictionaries, to communicate results."
   ]
  }
 ],
 "metadata": {
  "kernelspec": {
   "display_name": "Python 3 (ipykernel)",
   "language": "python",
   "name": "python3"
  },
  "language_info": {
   "codemirror_mode": {
    "name": "ipython",
    "version": 3
   },
   "file_extension": ".py",
   "mimetype": "text/x-python",
   "name": "python",
   "nbconvert_exporter": "python",
   "pygments_lexer": "ipython3",
   "version": "3.10.9"
  }
 },
 "nbformat": 4,
 "nbformat_minor": 5
}
